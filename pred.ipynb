{
 "cells": [
  {
   "cell_type": "code",
   "execution_count": null,
   "metadata": {},
   "outputs": [],
   "source": [
    "import pandas as pd"
   ]
  },
  {
   "cell_type": "code",
   "execution_count": null,
   "metadata": {},
   "outputs": [],
   "source": [
    "import tensorflow as tf\n",
    "print(tf.__version__)"
   ]
  },
  {
   "cell_type": "markdown",
   "metadata": {},
   "source": [
    "## Loading the Data"
   ]
  },
  {
   "cell_type": "code",
   "execution_count": null,
   "metadata": {},
   "outputs": [],
   "source": [
    "url1 = \"https://raw.githubusercontent.com/CSSEGISandData/COVID-19/master/csse_covid_19_data/csse_covid_19_time_series/time_series_covid19_confirmed_global.csv\" # confirmed cases day by day\n",
    "url2 = \"https://raw.githubusercontent.com/CSSEGISandData/COVID-19/master/csse_covid_19_data/csse_covid_19_time_series/time_series_covid19_deaths_global.csv\" # deaths\n",
    "url3 = \"https://raw.githubusercontent.com/CSSEGISandData/COVID-19/master/csse_covid_19_data/csse_covid_19_time_series/time_series_covid19_recovered_global.csv\" # recovery day by day\n",
    "\n",
    "covid_confirmed = pd.read_csv(url1) # main df to work with\n",
    "covid_death = pd.read_csv(url2) \n",
    "covid_recovered = pd.read_csv(url3)\n",
    "\n",
    "print(covid_death.head())"
   ]
  },
  {
   "cell_type": "code",
   "execution_count": null,
   "metadata": {},
   "outputs": [],
   "source": [
    "covid_confirmed[covid_confirmed['Country/Region'] == 'US']"
   ]
  },
  {
   "cell_type": "markdown",
   "metadata": {},
   "source": [
    "#### Very few null entries, whereas there are a lot of columns for each day\n",
    "Lets zoom in on a country in particular, the US"
   ]
  },
  {
   "cell_type": "code",
   "execution_count": null,
   "metadata": {},
   "outputs": [],
   "source": [
    "df_us = covid_confirmed[covid_confirmed['Country/Region'] == 'US'].drop(columns=['Lat', 'Long', 'Country/Region', 'Province/State'], errors='ignore') # drop columns that are not necessary \n",
    "daily_cases = df_us.sum(axis=0).diff().fillna(0) # difference of cases from col to col\n",
    "daily_cases.index = pd.to_datetime(daily_cases.index) # columns to actual datetime objects, proper date handling for plotting and modelling\n",
    "daily_cases = daily_cases.to_frame(name='new_cases_diff_by_day') # daily cases series to df w single col named new_cases"
   ]
  },
  {
   "cell_type": "code",
   "execution_count": null,
   "metadata": {},
   "outputs": [],
   "source": [
    "df_us_cumulative = df_us.sum(axis=0) # add all US rows, cumulative sum\n",
    "df_us_cumulative.index = pd.to_datetime(df_us_cumulative.index)"
   ]
  },
  {
   "cell_type": "code",
   "execution_count": null,
   "metadata": {},
   "outputs": [],
   "source": [
    "import matplotlib.pyplot as plt\n",
    "\n",
    "plt.figure(figsize=(14, 10))\n",
    "\n",
    "# --- Plot 1: Cumulative cases ---\n",
    "plt.subplot(2, 1, 1)  # (nrows, ncols, index)\n",
    "plt.plot(df_us_cumulative.index, df_us_cumulative.values, color='blue')\n",
    "plt.title(\"Cumulative COVID-19 Confirmed Cases in the US (by hundreds of millions)\")\n",
    "plt.ylabel(\"Total Confirmed Cases\")\n",
    "plt.grid(True)\n",
    "\n",
    "# --- Plot 2: Daily new cases ---\n",
    "plt.subplot(2, 1, 2)\n",
    "plt.plot(daily_cases.index, daily_cases[\"new_cases_diff_by_day\"], color='orange')\n",
    "plt.title(\"Daily New COVID-19 Cases in the US (by millions)\")\n",
    "plt.xlabel(\"Date\")\n",
    "plt.ylabel(\"New Cases\")\n",
    "plt.grid(True)\n",
    "\n",
    "plt.tight_layout()\n",
    "plt.show()"
   ]
  },
  {
   "cell_type": "code",
   "execution_count": null,
   "metadata": {},
   "outputs": [],
   "source": [
    "#covid_confirmed \n",
    "#covid_death\n",
    "covid_recovered "
   ]
  },
  {
   "cell_type": "markdown",
   "metadata": {},
   "source": [
    "#### Compare to New Zealand which was said to have a better resonse to COVID, having one of the lowest death rates to COVID in the world. \n",
    "\n"
   ]
  },
  {
   "cell_type": "code",
   "execution_count": null,
   "metadata": {},
   "outputs": [],
   "source": [
    "df_nz = covid_confirmed[covid_confirmed['Country/Region'] == 'New Zealand'].drop(columns=['Lat', 'Long', 'Country/Region', 'Province/State'], errors='ignore') # drop columns that are not necessary \n",
    "daily_cases_nz = df_nz.sum(axis=0).diff().fillna(0) # difference of cases from col to col\n",
    "daily_cases_nz.index = pd.to_datetime(daily_cases_nz.index) # columns to actual datetime objects, proper date handling for plotting and modelling\n",
    "daily_cases_nz = daily_cases_nz.to_frame(name='new_cases_diff_by_day') # daily cases series to df w single col named new_cases"
   ]
  },
  {
   "cell_type": "code",
   "execution_count": null,
   "metadata": {},
   "outputs": [],
   "source": [
    "daily_cases_nz"
   ]
  },
  {
   "cell_type": "code",
   "execution_count": null,
   "metadata": {},
   "outputs": [],
   "source": [
    "df_nz_cumulative = df_nz.sum(axis=0) # add all US rows, cumulative sum\n",
    "df_nz_cumulative.index = pd.to_datetime(df_nz_cumulative.index)"
   ]
  },
  {
   "cell_type": "code",
   "execution_count": null,
   "metadata": {},
   "outputs": [],
   "source": [
    "import matplotlib.pyplot as plt\n",
    "\n",
    "plt.figure(figsize=(14, 10))\n",
    "\n",
    "# --- Plot 1: Cumulative cases ---\n",
    "plt.subplot(2, 1, 1)  # (nrows, ncols, index)\n",
    "plt.plot(df_nz_cumulative.index, df_nz_cumulative.values, color='blue')\n",
    "plt.title(\"Cumulative COVID-19 Confirmed Cases in New Zealand (by millions)\")\n",
    "plt.ylabel(\"Total Confirmed Cases\")\n",
    "plt.grid(True)\n",
    "\n",
    "# --- Plot 2: Daily new cases ---\n",
    "plt.subplot(2, 1, 2)\n",
    "plt.plot(daily_cases_nz.index, daily_cases_nz[\"new_cases_diff_by_day\"], color='orange')\n",
    "plt.title(\"Daily New COVID-19 Cases in New Zealand\")\n",
    "plt.xlabel(\"Date\")\n",
    "plt.ylabel(\"New Cases\")\n",
    "plt.grid(True)\n",
    "\n",
    "plt.tight_layout()\n",
    "plt.show()"
   ]
  },
  {
   "cell_type": "markdown",
   "metadata": {},
   "source": [
    "### Rolling Averages comparison of US and NZ"
   ]
  },
  {
   "cell_type": "code",
   "execution_count": null,
   "metadata": {},
   "outputs": [],
   "source": [
    "us_rolling = daily_cases.rolling(window=7).mean()\n",
    "nz_rolling = daily_cases_nz.rolling(window=7).mean()\n",
    "\n",
    "# rollingaverage to smooth out spikes and noise, see trendlines a bit mroe clearly and concisely\n"
   ]
  },
  {
   "cell_type": "code",
   "execution_count": null,
   "metadata": {},
   "outputs": [],
   "source": [
    "plt.figure(figsize=(14, 6))\n",
    "plt.plot(us_rolling.index, us_rolling['new_cases_diff_by_day'], label='US (7-day avg)', color='blue')\n",
    "plt.plot(nz_rolling.index, nz_rolling['new_cases_diff_by_day'], label='New Zealand (7-day avg)', color='green')\n",
    "plt.title(\"7-Day Rolling Average of COVID-19 New Cases\")\n",
    "plt.xlabel(\"Date\")\n",
    "plt.ylabel(\"New Cases\")\n",
    "plt.legend()\n",
    "plt.grid(True)\n",
    "plt.tight_layout()\n",
    "\n",
    "lockdown_dates = {\n",
    "    'US Lockdown': '2020-03-19',\n",
    "    'NZ Full Lockdown': '2020-03-25',\n",
    "    'NZ Reopening': '2020-05-14',\n",
    "    'US CDC Drops Mask Reccomendations for Fully Vaccinated': '2021-05-13'\n",
    "}\n",
    "\n",
    "for label, date in lockdown_dates.items():\n",
    "    plt.axvline(pd.to_datetime(date), color='red', linestyle='--', linewidth=1)\n",
    "    plt.text(pd.to_datetime(date), plt.ylim()[1]*0.8, label, rotation=90, color='red')\n",
    "\n",
    "plt.show()\n",
    "\n"
   ]
  },
  {
   "cell_type": "markdown",
   "metadata": {},
   "source": [
    "Rolling average shows covid daily spikes as well as some key time indices"
   ]
  },
  {
   "cell_type": "markdown",
   "metadata": {},
   "source": [
    "#### Deep dive into Stringency Index and covid cases together \n",
    "Stringency refers to a scale on governments policy strictness regarding COVID 19"
   ]
  },
  {
   "cell_type": "code",
   "execution_count": null,
   "metadata": {},
   "outputs": [],
   "source": [
    "owid_url = \"https://covid.ourworldindata.org/data/owid-covid-data.csv\" # our world in data COVID dataset (stringency index)\n",
    "owid = pd.read_csv(owid_url, parse_dates=['date'])"
   ]
  },
  {
   "cell_type": "code",
   "execution_count": null,
   "metadata": {},
   "outputs": [],
   "source": [
    "stringency_us = owid[owid['location'] == 'United States'][['date', 'stringency_index']].set_index('date')\n",
    "stringency_nz = owid[owid['location'] == 'New Zealand'][['date', 'stringency_index']].set_index('date')"
   ]
  },
  {
   "cell_type": "code",
   "execution_count": null,
   "metadata": {},
   "outputs": [],
   "source": [
    "fig, ax1 = plt.subplots(figsize=(14, 6))\n",
    "\n",
    "ax1.plot(us_rolling.index, us_rolling['new_cases_diff_by_day'], label='US New Cases (7-day avg)', color='blue')\n",
    "ax1.set_ylabel('New Cases', color='blue')\n",
    "ax1.tick_params(axis='y', labelcolor='blue')\n",
    "\n",
    "# Create second y-axis\n",
    "ax2 = ax1.twinx()\n",
    "ax2.plot(stringency_us.index, stringency_us['stringency_index'], label='Stringency Index', color='red', alpha=0.7)\n",
    "ax2.set_ylabel('Stringency Index (0-100)', color='red')\n",
    "ax2.tick_params(axis='y', labelcolor='red')\n",
    "\n",
    "plt.title(\"US: COVID-19 Cases vs Government Stringency Index\")\n",
    "fig.tight_layout()\n",
    "plt.grid(True)"
   ]
  },
  {
   "cell_type": "code",
   "execution_count": null,
   "metadata": {},
   "outputs": [],
   "source": [
    "fig, ax1 = plt.subplots(figsize=(14, 6))\n",
    "\n",
    "ax1.plot(us_rolling.index, nz_rolling['new_cases_diff_by_day'], label='NZ New Cases (7-day avg)', color='blue')\n",
    "ax1.set_ylabel('New Cases', color='blue')\n",
    "ax1.tick_params(axis='y', labelcolor='blue')\n",
    "\n",
    "# Create second y-axis\n",
    "ax2 = ax1.twinx()\n",
    "ax2.plot(stringency_nz.index, stringency_nz['stringency_index'], label='Stringency Index', color='red', alpha=0.7)\n",
    "ax2.set_ylabel('Stringency Index (0-100)', color='red')\n",
    "ax2.tick_params(axis='y', labelcolor='red')\n",
    "\n",
    "plt.title(\"New Zealand: COVID-19 Cases vs Government Stringency Index\")\n",
    "fig.tight_layout()\n",
    "plt.grid(True)"
   ]
  },
  {
   "cell_type": "markdown",
   "metadata": {},
   "source": [
    "With relaxed policies, there do seem to be spikes in cases occurring after the ralaxation in accordance to the strignency index. Could be used as a possible feature in the model! We can combine the dataframes as such"
   ]
  },
  {
   "cell_type": "code",
   "execution_count": null,
   "metadata": {},
   "outputs": [],
   "source": [
    "us_combined = daily_cases.join(stringency_us, how='left')\n",
    "nz_combined = daily_cases_nz.join(stringency_nz, how='left')\n",
    "\n",
    "us_combined['stringency_index'] = us_combined['stringency_index'].ffill()\n",
    "nz_combined['stringency_index'] = nz_combined['stringency_index'].ffill()\n",
    "# we added new column regarding stringency index , utilizing missigness imputation of assuming stringency stays the same since NAN"
   ]
  },
  {
   "cell_type": "code",
   "execution_count": null,
   "metadata": {},
   "outputs": [],
   "source": [
    "columns = [\n",
    "    'date', 'location', 'new_cases', 'stringency_index',\n",
    "    'people_vaccinated_per_hundred'\n",
    "] # possible features form OWID dataset\n",
    "\n",
    "owid_filtered = owid[columns] # \n",
    "\n",
    "us_df = owid_filtered[owid_filtered['location'] == 'United States'].copy()\n",
    "nz_df = owid_filtered[owid_filtered['location'] == 'New Zealand'].copy()\n",
    "\n",
    "us_df"
   ]
  },
  {
   "cell_type": "code",
   "execution_count": null,
   "metadata": {},
   "outputs": [],
   "source": [
    "\n",
    "\n",
    "us_df.drop(columns=['location'], inplace=True)\n",
    "nz_df.drop(columns=['location'], inplace=True)\n",
    "\n",
    "us_df.set_index('date', inplace=True)\n",
    "nz_df.set_index('date', inplace=True)\n",
    "\n",
    "us_df.ffill()\n",
    "nz_df.ffill() # forward fill for time series data (impute using previous values and continuing forward)"
   ]
  },
  {
   "cell_type": "code",
   "execution_count": null,
   "metadata": {},
   "outputs": [],
   "source": [
    "us_df['new_cases'] = us_df['new_cases'].rolling(window=7).mean().fillna(0)\n",
    "nz_df['new_cases'] = nz_df['new_cases'].rolling(window=7).mean().fillna(0) # rolling average to smooth out noise and spikes and irregular values"
   ]
  },
  {
   "cell_type": "code",
   "execution_count": null,
   "metadata": {},
   "outputs": [],
   "source": [
    "import seaborn as sns\n",
    "# visualize correlations with heat matrix\n",
    "corr = us_df.corr()\n",
    "plt.figure(figsize=(8, 6))\n",
    "sns.heatmap(corr, annot=True, cmap='coolwarm')\n",
    "plt.title(\"Feature Correlation Matrix\")\n",
    "plt.show()"
   ]
  },
  {
   "cell_type": "code",
   "execution_count": null,
   "metadata": {},
   "outputs": [],
   "source": [
    "sns.scatterplot(x=us_df['stringency_index'], y=us_df['new_cases'])"
   ]
  },
  {
   "cell_type": "code",
   "execution_count": null,
   "metadata": {},
   "outputs": [],
   "source": [
    "sns.scatterplot(x=nz_df['stringency_index'], y=nz_df['new_cases'])"
   ]
  },
  {
   "cell_type": "code",
   "execution_count": null,
   "metadata": {},
   "outputs": [],
   "source": [
    "# TODO \n",
    "# normalize the features\n",
    "# create sliding window sequences for TF to predict upon"
   ]
  },
  {
   "cell_type": "code",
   "execution_count": null,
   "metadata": {},
   "outputs": [],
   "source": [
    "us_df.isnull().sum()"
   ]
  },
  {
   "cell_type": "code",
   "execution_count": null,
   "metadata": {},
   "outputs": [],
   "source": [
    "nz_df.isnull().sum()"
   ]
  },
  {
   "cell_type": "markdown",
   "metadata": {},
   "source": [
    "### Start fully cleaning NAN and normalizing the features to be used in our model, use Forward Fill on time series data"
   ]
  },
  {
   "cell_type": "code",
   "execution_count": null,
   "metadata": {},
   "outputs": [],
   "source": [
    "us_df = us_df.ffill()\n",
    "us_df = us_df.bfill()"
   ]
  },
  {
   "cell_type": "code",
   "execution_count": null,
   "metadata": {},
   "outputs": [],
   "source": [
    "nz_df = nz_df.ffill()\n",
    "nz_df = nz_df.bfill()\n"
   ]
  },
  {
   "cell_type": "code",
   "execution_count": null,
   "metadata": {},
   "outputs": [],
   "source": [
    "us_df_active = us_df[(us_df['new_cases'] > 1000) & (us_df['stringency_index'] > 0)] # address issue of too many 0 values\n",
    "nz_df_active = nz_df[(nz_df['new_cases'] > 1000) & (nz_df['stringency_index'] > 0)]"
   ]
  },
  {
   "cell_type": "code",
   "execution_count": null,
   "metadata": {},
   "outputs": [],
   "source": [
    "(us_df_active == 0).mean() * 100 # perfect, much less to no non zero activity, model can ACTUALLY learn\n",
    "us_df_active"
   ]
  },
  {
   "cell_type": "markdown",
   "metadata": {},
   "source": [
    "#### Normalize with Min Max Scaler and doesnt change data distribution / centering around 0"
   ]
  },
  {
   "cell_type": "code",
   "execution_count": null,
   "metadata": {},
   "outputs": [],
   "source": [
    "from sklearn.preprocessing import MinMaxScaler\n",
    "\n",
    "scaler = MinMaxScaler()"
   ]
  },
  {
   "cell_type": "code",
   "execution_count": null,
   "metadata": {},
   "outputs": [],
   "source": [
    "us_scaled = pd.DataFrame(scaler.fit_transform(us_df_active), columns=us_df_active.columns, index=us_df_active.index) # using this for now\n",
    "nz_scaled = pd.DataFrame(scaler.fit_transform(nz_df_active), columns=nz_df_active.columns, index=nz_df_active.index)"
   ]
  },
  {
   "cell_type": "markdown",
   "metadata": {},
   "source": [
    "#### Sliding Windows in Tensor Flow -\n",
    "For time series models (LSTMs and GRUs) converts a continuous time series into overlapping sequences of fixed size for the model to learn from"
   ]
  },
  {
   "cell_type": "code",
   "execution_count": null,
   "metadata": {},
   "outputs": [],
   "source": [
    "import numpy as np\n",
    "\n",
    "def create_sliding_windows(data, target_col='new_cases', window_size=14):\n",
    "    X, y = [], []\n",
    "    for i in range(len(data) - window_size):\n",
    "        window = data.iloc[i:i+window_size].values # window of past values\n",
    "        target = data.iloc[i+window_size][target_col] # target for prediction\n",
    "        X.append(window)\n",
    "        y.append(target)\n",
    "    return np.array(X), np.array(y)"
   ]
  },
  {
   "cell_type": "code",
   "execution_count": null,
   "metadata": {},
   "outputs": [],
   "source": [
    "X, y = create_sliding_windows(us_scaled, window_size=14) # 2 week sliding window on US scaled data\n",
    "X_nz, y_nz = create_sliding_windows(nz_scaled)"
   ]
  },
  {
   "cell_type": "markdown",
   "metadata": {},
   "source": [
    "##### Train test splits prior to modelling, dont want to shuffle the data for time series model"
   ]
  },
  {
   "cell_type": "code",
   "execution_count": null,
   "metadata": {},
   "outputs": [],
   "source": [
    "split_ratio = 0.8\n",
    "split_idx = int(len(X) * split_ratio)\n",
    "X_train, X_test = X[:split_idx], X[split_idx:]\n",
    "y_train, y_test = y[:split_idx], y[split_idx:]"
   ]
  },
  {
   "cell_type": "markdown",
   "metadata": {},
   "source": [
    "#### Time to build a simple LTSM model !"
   ]
  },
  {
   "cell_type": "code",
   "execution_count": null,
   "metadata": {},
   "outputs": [],
   "source": [
    "import tensorflow as tf\n",
    "from tensorflow.keras.models import Sequential # stack layers linearly\n",
    "from tensorflow.keras.layers import LSTM, Dense, Dropout \n",
    "\n",
    "model = Sequential([\n",
    "    LSTM(64, input_shape=(X_train.shape[1], X_train.shape[2])), # 14 day window with 3 features\n",
    "    Dropout(0.2), # drops 20% neurons randomly during training, overfitting prevention\n",
    "    Dense(1) # 1 output neuron, predicts SINGLE VALUE\n",
    "]) # model with 3 layers, LTSM layer with 64 units (neurons)\n",
    "\n",
    "model.compile(optimizer='adam', loss='mse', metrics=['mae'])\n",
    "model.summary()"
   ]
  },
  {
   "cell_type": "code",
   "execution_count": null,
   "metadata": {},
   "outputs": [],
   "source": [
    "history = model.fit(\n",
    "    X_train, y_train,\n",
    "    validation_split=0.1,  # last 10% of train used for validation\n",
    "    epochs=30,\n",
    "    batch_size=16,\n",
    "    verbose=1\n",
    ")"
   ]
  },
  {
   "cell_type": "code",
   "execution_count": null,
   "metadata": {},
   "outputs": [],
   "source": [
    "import matplotlib.pyplot as plt\n",
    "\n",
    "y_pred = model.predict(X_test)\n",
    "\n",
    "plt.figure(figsize=(14, 6))\n",
    "plt.plot(y_test, label='Actual')\n",
    "plt.plot(y_pred, label='Predicted')\n",
    "plt.title(\"LSTM Model: Actual vs Predicted New Cases\")\n",
    "plt.xlabel(\"Days (test set)\")\n",
    "plt.ylabel(\"Normalized New Cases\")\n",
    "plt.legend()\n",
    "plt.grid(True)\n",
    "plt.tight_layout()\n",
    "plt.show()"
   ]
  },
  {
   "cell_type": "code",
   "execution_count": null,
   "metadata": {},
   "outputs": [],
   "source": [
    "# predict on new zealand using US trained model\n",
    "y_nz_pred = model.predict(X_nz)\n"
   ]
  },
  {
   "cell_type": "code",
   "execution_count": null,
   "metadata": {},
   "outputs": [],
   "source": [
    "plt.figure(figsize=(14, 6))\n",
    "plt.plot(y_nz, label='NZ Actual')\n",
    "plt.plot(y_nz_pred, label='NZ Predicted (US-trained)')\n",
    "plt.title(\"Generalization: US-Trained Model on New Zealand\")\n",
    "plt.xlabel(\"Days (Test Set)\")\n",
    "plt.ylabel(\"Normalized New Cases\")\n",
    "plt.legend()\n",
    "plt.grid(True)\n",
    "plt.tight_layout()\n",
    "plt.show()"
   ]
  },
  {
   "cell_type": "markdown",
   "metadata": {},
   "source": [
    "#### New Zealand data is VERY well predicted on by the American trained COVID model"
   ]
  },
  {
   "cell_type": "code",
   "execution_count": null,
   "metadata": {},
   "outputs": [],
   "source": [
    "new_cases_idx = list(nz_df.columns).index('new_cases')\n",
    "y_nz_pred_real = scaler.inverse_transform(\n",
    "    np.concatenate([\n",
    "        y_nz_pred, np.zeros((len(y_nz_pred), len(nz_df.columns) - 1))\n",
    "    ], axis=1)\n",
    ")[:, new_cases_idx]"
   ]
  },
  {
   "cell_type": "code",
   "execution_count": null,
   "metadata": {},
   "outputs": [],
   "source": [
    "y_nz_pred_real # real predictions of new zealand "
   ]
  },
  {
   "cell_type": "markdown",
   "metadata": {},
   "source": [
    "#### Next step, create a multi - country model to generalize predictions upon MOST countreis based off of policy, vaccination rate, and disease spread rates. US, NEW ZEALAND, INDIA, and BRAZIL"
   ]
  },
  {
   "cell_type": "code",
   "execution_count": null,
   "metadata": {},
   "outputs": [],
   "source": [
    "import multi_country_pipeline as mcp\n",
    "import importlib\n",
    "\n",
    "df_raw = mcp.load_owid_data() # laod the owid data as step 1!"
   ]
  },
  {
   "cell_type": "code",
   "execution_count": null,
   "metadata": {},
   "outputs": [],
   "source": [
    "importlib.reload(mcp) # debugging pipeline measures\n",
    "\n",
    "#initialize and fit the preprocessor custom created in the script\n",
    "countries = ['United States', 'New Zealand', 'India', 'Brazil']\n",
    "preprocessor = mcp.MultiCountryCOVIDPreprocessor(\n",
    "    countries=['United States', 'New Zealand', 'India', 'Brazil'],\n",
    "    window_size=14\n",
    ")\n",
    "preprocessor.fit(df_raw)"
   ]
  },
  {
   "cell_type": "code",
   "execution_count": null,
   "metadata": {},
   "outputs": [],
   "source": [
    "# transform the data now with the preprocessor\n",
    "X, y = preprocessor.transform(df_raw)"
   ]
  },
  {
   "cell_type": "code",
   "execution_count": null,
   "metadata": {},
   "outputs": [],
   "source": [
    "from sklearn.model_selection import train_test_split\n",
    "\n",
    "\n",
    "X_train, X_test, y_train, y_test = train_test_split(X, y, shuffle=False, test_size=0.2)\n",
    "\n"
   ]
  },
  {
   "cell_type": "code",
   "execution_count": null,
   "metadata": {},
   "outputs": [],
   "source": [
    "model = mcp.build_lstm_model(input_shape=(X_train.shape[1], X_train.shape[2]))\n",
    "\n",
    "history = model.fit(X_train, y_train, epochs=50, validation_split=0.1, verbose=1)"
   ]
  },
  {
   "cell_type": "code",
   "execution_count": null,
   "metadata": {},
   "outputs": [],
   "source": [
    "y_pred = model.predict(X_test)\n",
    "\n",
    "#inverse transform just the new_cases column\n",
    "y_test_real = target_scaler.inverse_transform(np.concatenate(\n",
    "    [y_test.reshape(-1, 1),\n",
    "     np.zeros((len(y_test), 2))], axis=1))[:, 0]\n",
    "\n",
    "y_pred_real = target_scaler.inverse_transform(np.concatenate(\n",
    "    [y_pred,\n",
    "     np.zeros((len(y_pred), 2))], axis=1))[:, 0]\n",
    "\n",
    "plt.figure(figsize=(14, 6))\n",
    "plt.plot(y_test_real, label='Actual')\n",
    "plt.plot(y_pred_real, label='Predicted')\n",
    "plt.title(\"LSTM Multi-Country Model: Actual vs Predicted\")\n",
    "plt.xlabel(\"Days (Test Set)\")\n",
    "plt.ylabel(\"Normalized New Cases\")\n",
    "plt.legend()\n",
    "plt.grid(True)\n",
    "plt.tight_layout()\n",
    "plt.show()"
   ]
  },
  {
   "cell_type": "code",
   "execution_count": null,
   "metadata": {},
   "outputs": [],
   "source": [
    "import boto3\n",
    "import io"
   ]
  },
  {
   "cell_type": "code",
   "execution_count": null,
   "metadata": {},
   "outputs": [],
   "source": [
    "s3 = boto3.client('s3')\n",
    "obj = s3.get_object(Bucket='covid-pipeline-data', Key='processed/owid-covid-data-filtered_2025-04-06_13-47-00.csv')\n",
    "#df = pd.read_csv(io.BytesIO(obj['Body'].read()))"
   ]
  },
  {
   "cell_type": "code",
   "execution_count": null,
   "metadata": {},
   "outputs": [],
   "source": []
  }
 ],
 "metadata": {
  "kernelspec": {
   "display_name": "covid-predict",
   "language": "python",
   "name": "python3"
  },
  "language_info": {
   "codemirror_mode": {
    "name": "ipython",
    "version": 3
   },
   "file_extension": ".py",
   "mimetype": "text/x-python",
   "name": "python",
   "nbconvert_exporter": "python",
   "pygments_lexer": "ipython3",
   "version": "3.10.16"
  }
 },
 "nbformat": 4,
 "nbformat_minor": 2
}
